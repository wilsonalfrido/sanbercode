{
 "cells": [
  {
   "cell_type": "markdown",
   "metadata": {
    "colab_type": "text",
    "id": "a9HYUdCUsrKl"
   },
   "source": [
    "# Soal 1: Comparison Operator\n",
    "\n",
    "- Berikan contoh comparison dari tipe data string\n",
    "- Berikan contoh comparison dari tipe data boolean\n",
    "- Berikan contoh comparison dari tipe data integer"
   ]
  },
  {
   "cell_type": "code",
   "execution_count": null,
   "metadata": {
    "colab": {},
    "colab_type": "code",
    "id": "lXMCHZ71srKp"
   },
   "outputs": [],
   "source": [
    "#string\n",
    "print(\"cek jika suatu input string terdapat huruf kapital\")\n",
    "str_inp = str(input(\"Masukkan kata = \"))\n",
    "if(str_inp == str_inp.lower()):\n",
    "    print(\"True\")\n",
    "else:\n",
    "    print(\"False\")\n"
   ]
  },
  {
   "cell_type": "code",
   "execution_count": null,
   "metadata": {},
   "outputs": [],
   "source": [
    "#boolean\n",
    "print(\"Input angka genap positif\")\n",
    "inp_num = float(input(\"Masukkan angka = \"))\n",
    "cek1 = inp_num > 0\n",
    "cek2 = (inp_num%2 == 0)\n",
    "if(cek1 == cek2):\n",
    "    print(\"Angka genap positif\")\n",
    "else:\n",
    "    print(\"Bukan angka genap positif\")"
   ]
  },
  {
   "cell_type": "code",
   "execution_count": null,
   "metadata": {},
   "outputs": [],
   "source": [
    "#integer\n",
    "print(\"Cek jika suatu input angka adalah positif lebih besar dari 0\")\n",
    "num_inp = float(input(\"Masukkan angka = \"))\n",
    "if (num_inp > 0):\n",
    "    print(\"Angka Positif\")\n",
    "else:\n",
    "    print(\"Angka Negatif\")"
   ]
  },
  {
   "cell_type": "markdown",
   "metadata": {
    "colab_type": "text",
    "id": "IbNoZvVssrK5"
   },
   "source": [
    "<h2>Soal 2: Boolean Comparison</h2>\n",
    "\n",
    "- Berikan contoh gabungan multiple comparison menggunkan Boolean Comparisin 'and'\n",
    "- Berikan contoh gabungan multiple comparison menggunkan Boolean Comparisin 'or'\n",
    "- Berikan contoh gabungan multiple comparison menggunkan Boolean Comparisin 'not'"
   ]
  },
  {
   "cell_type": "code",
   "execution_count": null,
   "metadata": {
    "colab": {},
    "colab_type": "code",
    "id": "7eU1vPLCsrK7"
   },
   "outputs": [],
   "source": [
    "#and\n",
    "print(\"Cek input angka positif dan genap\")\n",
    "num_inp = float(input(\"Masukkan angka = \"))\n",
    "if((num_inp > 0) & (num_inp%2 == 0)):\n",
    "    print(\"Angka genap positif\")\n",
    "else:\n",
    "    print(\"Angka bukan genap positif\")"
   ]
  },
  {
   "cell_type": "code",
   "execution_count": null,
   "metadata": {},
   "outputs": [],
   "source": [
    "#or\n",
    "jml = 0\n",
    "print(\"Cek jumlah huruf vokal dalam string\")\n",
    "str_inp2 = str(input(\"Input string = \"))\n",
    "for i in str_inp2:\n",
    "    if((i == 'a') | (i == 'i') |(i == 'u') | (i == 'e') |(i == 'o') ):\n",
    "        jml += 1\n",
    "print(\"Jumlah huruf vokal = {}\".format(jml))"
   ]
  },
  {
   "cell_type": "code",
   "execution_count": null,
   "metadata": {},
   "outputs": [],
   "source": [
    "#not\n",
    "print(\"Cek input angka ganjil\")\n",
    "num_inp2 = float(input(\"Masukkan angka = \"))\n",
    "if((not(num_inp2%2 == 0)) & ((num_inp2%2).is_integer())):\n",
    "    print(\"Angka ganjil\")\n",
    "else:\n",
    "    print(\"Angka bukan ganjil\")"
   ]
  },
  {
   "cell_type": "markdown",
   "metadata": {
    "colab_type": "text",
    "id": "Yp_g_sPMsrLH"
   },
   "source": [
    "# Soal 3: If-Else Statement\n",
    "\n",
    "Lengkapi kode untuk menghasilkan suatu output yang di harapkan\n",
    "\n",
    "- Bualah sebuah if-else statement yang dimana akan mem-print 'Besar' jika ruangan adalah 'Kamar' dan ukuran lebih dari 12, kemudian mem-print 'Sedang' jika ruangan adalah 'Kamar' dan ukuran lebih dari 6 dan memprint 'Kecil' jika ruangan adalah 'Kamar' dan ukuran ruangan lebih kecil dan sama dengan 6."
   ]
  },
  {
   "cell_type": "code",
   "execution_count": null,
   "metadata": {
    "colab": {},
    "colab_type": "code",
    "id": "euRiRNupsrLK"
   },
   "outputs": [],
   "source": [
    "ruangan = 'Kamar'\n",
    "size = 12\n",
    "if ((ruangan == 'Kamar') & (size > 12)):\n",
    "    print('Besar')\n",
    "elif ((ruangan == 'Kamar') & (size > 6)):\n",
    "    print('Sedang')\n",
    "elif ((ruangan == 'Kamar') & (size <= 6)):\n",
    "    print('Kecil')"
   ]
  },
  {
   "cell_type": "markdown",
   "metadata": {
    "colab_type": "text",
    "id": "IcoJXJT1srLW"
   },
   "source": [
    "<h2>Soal 4: Comparison Operator dengan fungsi</h2>\n",
    "\n",
    "Buatlah sebuah fungsi yang menerima satu argument bertipe data numeric dan menghasilkan sebuah return sebagai berikut :\n",
    "- menghasilkan return 'Aneh' jika nilai dari argument tersebut adalah bilangan ganjil\n",
    "- menghasilkan return 'Tidak Aneh' jika nilai dari argument tersebut adalah bilangan genap dan diantara nilai 2 sampai 5 (2 dan 5 termasuk)\n",
    "- menghasilkan return 'Aneh' jika nilai dari argument tersebut adalah bilangan genap dan diantara nilai 6 sampai 20 (6 dan 20 termasuk)\n",
    "- menghasilkan return 'Tidak Aneh' jika nilai dari argument tersebut adalah bilangan genap dan lebih besari dari 20"
   ]
  },
  {
   "cell_type": "code",
   "execution_count": null,
   "metadata": {
    "colab": {},
    "colab_type": "code",
    "id": "g8F_qfEKsrLZ"
   },
   "outputs": [],
   "source": [
    "def fungsi(inp):\n",
    "    while(True):\n",
    "        if ((inp%2 != 0) & ((inp%2).is_integer())):\n",
    "            return 'Aneh'\n",
    "        elif ((inp%2 == 0) & ( 2 <= inp <= 5)):\n",
    "            return 'Tidak Aneh'\n",
    "        elif ((inp%2 == 0) & ( 6 <= inp <= 20)):\n",
    "            return 'Aneh'\n",
    "        elif ((inp%2 == 0) & ( inp >= 20)):\n",
    "            return 'Tidak Aneh'\n",
    "        else:\n",
    "            return 0\n",
    "    \n",
    "while (True):\n",
    "    num = float(input(\"Masukkan sebuah bilangan bulat = \"))\n",
    "    if (fungsi(num) != 0):\n",
    "        print(fungsi(num))\n",
    "        break\n",
    "    else:\n",
    "        print(\"Silahkan masukkan bilangan bulat\")\n",
    "        continue"
   ]
  },
  {
   "cell_type": "markdown",
   "metadata": {
    "colab_type": "text",
    "id": "gf0D64xOsrLl"
   },
   "source": [
    "<h2>Soal 5: While Loop dan For Loop</h2>\n",
    "\n",
    "- Apa perbedaan while loop dan for loop?\n",
    "- Berikan contoh sederhana cara menggunakan while loop dan for loop"
   ]
  },
  {
   "cell_type": "markdown",
   "metadata": {},
   "source": [
    "For loop dapat terus melakukan iterasi pada jumlah yang sebelumnya ditentukan, sedangkan while loop dapat melakukan iterasi hingga tak hingga dan akan stop hingga mendapatkan nilai yang membuat iterasi berhenti"
   ]
  },
  {
   "cell_type": "code",
   "execution_count": null,
   "metadata": {},
   "outputs": [],
   "source": [
    "#while loop\n",
    "print(\"loop akan berhenti jika dimasukkan bilangan bulat positif genap\")\n",
    "condition = True\n",
    "while(condition):\n",
    "    inp = float(input(\"Masukkan sebuah bilangan = \"))\n",
    "    if((inp > 0) & (inp%2 == 0)):\n",
    "        print(\"loop berhenti\")\n",
    "        condition = False"
   ]
  },
  {
   "cell_type": "code",
   "execution_count": null,
   "metadata": {},
   "outputs": [],
   "source": [
    "#for loop\n",
    "for i in range(7):\n",
    "    if(i < 3):\n",
    "        spasi = i\n",
    "        bintang = 7 - 2*spasi\n",
    "        print(\" \"*spasi,end = \" \")\n",
    "        print(\"*\"*bintang, end = \" \")\n",
    "        print(\" \"*spasi)\n",
    "    else:\n",
    "        spasi = 6 - i\n",
    "        bintang = 7 - 2*spasi\n",
    "        print(\" \"*spasi,end = \" \")\n",
    "        print(\"*\"*bintang, end = \" \")\n",
    "        print(\" \"*spasi)   "
   ]
  },
  {
   "cell_type": "markdown",
   "metadata": {
    "colab_type": "text",
    "id": "fZQpBGCgsrLz"
   },
   "source": [
    "<h2>Soal 6: While Loop</h2>\n",
    "    \n",
    "Buatlah sebuah code while loop sebagai berikut :\n",
    "- Buatlah suatu fungsi yang merima satu input nilai numeric\n",
    "- Dalam fungsi, Buat sebuah while-loop dengan melakukan comparasi terhadap inputan tersebut, dimana looping/iterasi terus berjalan apabila nilai inputan tidak sama dengan 0\n",
    "- Dalam setiap iterasi update nilai variable inputan itu, jika input lebih dari 0, maka kurangi variabel tersebut sebesar 1, selain itu tambahkan 1\n",
    "- print nilai variable input dalam setiap awal iterasi"
   ]
  },
  {
   "cell_type": "code",
   "execution_count": null,
   "metadata": {
    "colab": {},
    "colab_type": "code",
    "id": "yOiqjrU2srL1"
   },
   "outputs": [],
   "source": [
    "a = 10\n",
    "\n",
    "def fungsi_while(num):\n",
    "    while(num != 0):\n",
    "        print(num)\n",
    "        if(num > 0):\n",
    "            num -= 1\n",
    "        else:\n",
    "            num += 1\n",
    "fungsi_while(a)"
   ]
  },
  {
   "cell_type": "markdown",
   "metadata": {
    "colab_type": "text",
    "id": "lKzngRrlsrMD"
   },
   "source": [
    "Expected Output:\n",
    "\n",
    "10\n",
    "\n",
    "9\n",
    "\n",
    "8\n",
    "\n",
    "7\n",
    "\n",
    "6\n",
    "\n",
    "5\n",
    "\n",
    "4\n",
    "\n",
    "3\n",
    "\n",
    "2\n",
    "\n",
    "1"
   ]
  },
  {
   "cell_type": "markdown",
   "metadata": {
    "colab_type": "text",
    "id": "IWg3Z_zZsrMG"
   },
   "source": [
    "<h2>Soal 7: For Loop</h2>\n",
    "    \n",
    "Lengkapi kode untuk menghasilkan suatu output yang di harapkan:\n",
    "\n",
    "- Buatlah sebuah loop dengan mengiterasi sebuah objek list kemudian di kalikan dengan index dari list tersebut dan print hasilnya"
   ]
  },
  {
   "cell_type": "code",
   "execution_count": null,
   "metadata": {
    "colab": {},
    "colab_type": "code",
    "id": "_Jl5i7WKsrMI",
    "scrolled": true
   },
   "outputs": [],
   "source": [
    "obj_list= [1, 16, 11, 10, 5]\n",
    "\n",
    "# lengkapi code di bawah\n",
    "for count,value in enumerate(obj_list):\n",
    "    print(count*value)"
   ]
  },
  {
   "cell_type": "markdown",
   "metadata": {},
   "source": [
    "Expected Output:\n",
    "\n",
    "0\n",
    "\n",
    "16\n",
    "\n",
    "22\n",
    "\n",
    "30\n",
    "\n",
    "20"
   ]
  }
 ],
 "metadata": {
  "colab": {
   "name": "Tugas Hari 4.ipynb",
   "provenance": []
  },
  "kernelspec": {
   "display_name": "Python 3",
   "language": "python",
   "name": "python3"
  },
  "language_info": {
   "codemirror_mode": {
    "name": "ipython",
    "version": 3
   },
   "file_extension": ".py",
   "mimetype": "text/x-python",
   "name": "python",
   "nbconvert_exporter": "python",
   "pygments_lexer": "ipython3",
   "version": "3.8.5"
  }
 },
 "nbformat": 4,
 "nbformat_minor": 1
}
