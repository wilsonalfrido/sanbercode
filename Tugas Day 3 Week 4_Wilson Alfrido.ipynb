{
 "cells": [
  {
   "cell_type": "markdown",
   "metadata": {
    "id": "EqmubOp2whk3"
   },
   "source": [
    "# Soal 1. Pemahaman k-means clustering\n",
    "\n",
    "Jelaskan bagaimana cara kerja k-means clustering!"
   ]
  },
  {
   "cell_type": "markdown",
   "metadata": {
    "id": "gf8y3llqw369"
   },
   "source": [
    "Jawab disini:\n",
    "\n"
   ]
  },
  {
   "cell_type": "markdown",
   "metadata": {
    "id": "oXGsjqHCk7DW"
   },
   "source": [
    "Pertama, kita harus menentukan 2/3 variabel yang ingin ditinjau. Lalu, kita coba melihat hubungan antara variabel tersebut dengan cara membuat grafik scatterplot. Cara kerja algoritma k-mean clustering diawali dengan memilih jumlah centroid yang kita inginkan. Centroid adalah sebuah titik data pada suatu grafik hubungan variabel yang ingin ditinjau, yang mana menunjukan sebuah nilai tengah dari kluster data dan mewakilkan kluster. \n",
    "\n",
    "---\n",
    "Jika kita ingin membuat 2 jenis kluster, maka akan dipilih 2 centroid yang dipilih secara acak. Lalu setiap titik data akan dimasukkan dalam suatu kluster dengan cara memilih centroid dengan jarak terdekat dari titik data tersebut. Jarak tersebut ditentukan menggunakan rumus euclidean distance. Maka sekarang tiap titik data akan diklasifikasikan pada suatu klaster berdasarkan centroid terdekat. Namun, proses klusterisasi data tidak berhenti pada proses ini, melainkan centroid baru akan dicari. Centroid baru dicari dengan cara mencari nilai rata - rata koordinat, yakni X dan Y dari masing - masing titik data yang berada pada kluster yang sama berdasarkan hasil klusterisasi sebelumnya. Setelah itu, akan diperoleh suatu 2 titik koordinat baru sebagai centroid. Lalu titik data akan di-klusterisasi kembali berdasarkan jarak terdekat dengan centroid baru. Proses tersebut akan diiterasi terus menerus hingga ditemukan suatu nilai posisi centroid yang tidak berubah - ubah saat dicari lagi nilai rata - rata koordinat dari titik data. Hasilnya adalah diperoleh sebuah klusterisasi data dengan jumlah 2 kategori kluster.\n",
    "\n",
    "\n",
    "---\n",
    "\n",
    "\n",
    "\n",
    "---\n",
    "\n"
   ]
  },
  {
   "cell_type": "markdown",
   "metadata": {
    "id": "NoX-A3wElHoq"
   },
   "source": [
    "Download disini [pelanggan.csv](https://drive.google.com/uc?export=download&id=1jX_rLPfcCfzEEgy9xaoALmpqfU2s5TTB)"
   ]
  },
  {
   "cell_type": "code",
   "execution_count": 1,
   "metadata": {
    "colab": {
     "base_uri": "https://localhost:8080/",
     "height": 204
    },
    "executionInfo": {
     "elapsed": 776,
     "status": "ok",
     "timestamp": 1617786708008,
     "user": {
      "displayName": "Afrida hafizhatul Ulum",
      "photoUrl": "https://lh3.googleusercontent.com/a-/AOh14GhlS_9Q6i4q4ai8Ae6HYz-8Ub9PE3QIsxfVPf8tEQ=s64",
      "userId": "06287560445691811212"
     },
     "user_tz": -420
    },
    "id": "rqRBoUBsw7S0",
    "outputId": "4795491d-6d80-4b6d-dbc1-f6afb60bd02d",
    "scrolled": true
   },
   "outputs": [
    {
     "data": {
      "text/html": [
       "<div>\n",
       "<style scoped>\n",
       "    .dataframe tbody tr th:only-of-type {\n",
       "        vertical-align: middle;\n",
       "    }\n",
       "\n",
       "    .dataframe tbody tr th {\n",
       "        vertical-align: top;\n",
       "    }\n",
       "\n",
       "    .dataframe thead th {\n",
       "        text-align: right;\n",
       "    }\n",
       "</style>\n",
       "<table border=\"1\" class=\"dataframe\">\n",
       "  <thead>\n",
       "    <tr style=\"text-align: right;\">\n",
       "      <th></th>\n",
       "      <th>ID_pelanggan</th>\n",
       "      <th>Jenis Kelamin</th>\n",
       "      <th>Umur</th>\n",
       "      <th>Pendapatan pertahun (juta)</th>\n",
       "      <th>Skor Belanja (1-100)</th>\n",
       "    </tr>\n",
       "  </thead>\n",
       "  <tbody>\n",
       "    <tr>\n",
       "      <th>0</th>\n",
       "      <td>1</td>\n",
       "      <td>Laki-laki</td>\n",
       "      <td>19.0</td>\n",
       "      <td>15</td>\n",
       "      <td>39.0</td>\n",
       "    </tr>\n",
       "    <tr>\n",
       "      <th>1</th>\n",
       "      <td>2</td>\n",
       "      <td>Laki-laki</td>\n",
       "      <td>21.0</td>\n",
       "      <td>15</td>\n",
       "      <td>81.0</td>\n",
       "    </tr>\n",
       "    <tr>\n",
       "      <th>2</th>\n",
       "      <td>3</td>\n",
       "      <td>Perempuan</td>\n",
       "      <td>20.0</td>\n",
       "      <td>16</td>\n",
       "      <td>6.0</td>\n",
       "    </tr>\n",
       "    <tr>\n",
       "      <th>3</th>\n",
       "      <td>4</td>\n",
       "      <td>Perempuan</td>\n",
       "      <td>23.0</td>\n",
       "      <td>16</td>\n",
       "      <td>77.0</td>\n",
       "    </tr>\n",
       "    <tr>\n",
       "      <th>4</th>\n",
       "      <td>5</td>\n",
       "      <td>Perempuan</td>\n",
       "      <td>31.0</td>\n",
       "      <td>17</td>\n",
       "      <td>40.0</td>\n",
       "    </tr>\n",
       "  </tbody>\n",
       "</table>\n",
       "</div>"
      ],
      "text/plain": [
       "   ID_pelanggan Jenis Kelamin  Umur  Pendapatan pertahun (juta)  \\\n",
       "0             1     Laki-laki  19.0                          15   \n",
       "1             2     Laki-laki  21.0                          15   \n",
       "2             3     Perempuan  20.0                          16   \n",
       "3             4     Perempuan  23.0                          16   \n",
       "4             5     Perempuan  31.0                          17   \n",
       "\n",
       "   Skor Belanja (1-100)  \n",
       "0                  39.0  \n",
       "1                  81.0  \n",
       "2                   6.0  \n",
       "3                  77.0  \n",
       "4                  40.0  "
      ]
     },
     "execution_count": 1,
     "metadata": {},
     "output_type": "execute_result"
    }
   ],
   "source": [
    "import pandas as pd\n",
    "import matplotlib.pyplot as plt\n",
    "import seaborn as sns\n",
    "import numpy as np\n",
    "from sklearn.preprocessing import StandardScaler\n",
    "from sklearn.cluster import KMeans\n",
    "from sklearn.metrics import silhouette_score\n",
    "\n",
    "df = pd.read_csv('pelanggan_supermarket.csv')\n",
    "df.head()"
   ]
  },
  {
   "cell_type": "code",
   "execution_count": 2,
   "metadata": {},
   "outputs": [
    {
     "name": "stdout",
     "output_type": "stream",
     "text": [
      "<class 'pandas.core.frame.DataFrame'>\n",
      "RangeIndex: 250 entries, 0 to 249\n",
      "Data columns (total 5 columns):\n",
      " #   Column                      Non-Null Count  Dtype  \n",
      "---  ------                      --------------  -----  \n",
      " 0   ID_pelanggan                250 non-null    int64  \n",
      " 1   Jenis Kelamin               250 non-null    object \n",
      " 2   Umur                        245 non-null    float64\n",
      " 3   Pendapatan pertahun (juta)  250 non-null    int64  \n",
      " 4   Skor Belanja (1-100)        246 non-null    float64\n",
      "dtypes: float64(2), int64(2), object(1)\n",
      "memory usage: 9.9+ KB\n"
     ]
    },
    {
     "data": {
      "text/html": [
       "<div>\n",
       "<style scoped>\n",
       "    .dataframe tbody tr th:only-of-type {\n",
       "        vertical-align: middle;\n",
       "    }\n",
       "\n",
       "    .dataframe tbody tr th {\n",
       "        vertical-align: top;\n",
       "    }\n",
       "\n",
       "    .dataframe thead th {\n",
       "        text-align: right;\n",
       "    }\n",
       "</style>\n",
       "<table border=\"1\" class=\"dataframe\">\n",
       "  <thead>\n",
       "    <tr style=\"text-align: right;\">\n",
       "      <th></th>\n",
       "      <th>ID_pelanggan</th>\n",
       "      <th>Jenis Kelamin</th>\n",
       "      <th>Umur</th>\n",
       "      <th>Pendapatan pertahun (juta)</th>\n",
       "      <th>Skor Belanja (1-100)</th>\n",
       "    </tr>\n",
       "  </thead>\n",
       "  <tbody>\n",
       "    <tr>\n",
       "      <th>0</th>\n",
       "      <td>1</td>\n",
       "      <td>Laki-laki</td>\n",
       "      <td>19.0</td>\n",
       "      <td>15</td>\n",
       "      <td>39.0</td>\n",
       "    </tr>\n",
       "    <tr>\n",
       "      <th>1</th>\n",
       "      <td>2</td>\n",
       "      <td>Laki-laki</td>\n",
       "      <td>21.0</td>\n",
       "      <td>15</td>\n",
       "      <td>81.0</td>\n",
       "    </tr>\n",
       "    <tr>\n",
       "      <th>2</th>\n",
       "      <td>3</td>\n",
       "      <td>Perempuan</td>\n",
       "      <td>20.0</td>\n",
       "      <td>16</td>\n",
       "      <td>6.0</td>\n",
       "    </tr>\n",
       "    <tr>\n",
       "      <th>3</th>\n",
       "      <td>4</td>\n",
       "      <td>Perempuan</td>\n",
       "      <td>23.0</td>\n",
       "      <td>16</td>\n",
       "      <td>77.0</td>\n",
       "    </tr>\n",
       "    <tr>\n",
       "      <th>4</th>\n",
       "      <td>5</td>\n",
       "      <td>Perempuan</td>\n",
       "      <td>31.0</td>\n",
       "      <td>17</td>\n",
       "      <td>40.0</td>\n",
       "    </tr>\n",
       "    <tr>\n",
       "      <th>...</th>\n",
       "      <td>...</td>\n",
       "      <td>...</td>\n",
       "      <td>...</td>\n",
       "      <td>...</td>\n",
       "      <td>...</td>\n",
       "    </tr>\n",
       "    <tr>\n",
       "      <th>245</th>\n",
       "      <td>246</td>\n",
       "      <td>Laki-laki</td>\n",
       "      <td>59.0</td>\n",
       "      <td>93</td>\n",
       "      <td>14.0</td>\n",
       "    </tr>\n",
       "    <tr>\n",
       "      <th>246</th>\n",
       "      <td>247</td>\n",
       "      <td>Laki-laki</td>\n",
       "      <td>35.0</td>\n",
       "      <td>93</td>\n",
       "      <td>90.0</td>\n",
       "    </tr>\n",
       "    <tr>\n",
       "      <th>247</th>\n",
       "      <td>248</td>\n",
       "      <td>Perempuan</td>\n",
       "      <td>37.0</td>\n",
       "      <td>97</td>\n",
       "      <td>32.0</td>\n",
       "    </tr>\n",
       "    <tr>\n",
       "      <th>248</th>\n",
       "      <td>249</td>\n",
       "      <td>Perempuan</td>\n",
       "      <td>32.0</td>\n",
       "      <td>97</td>\n",
       "      <td>86.0</td>\n",
       "    </tr>\n",
       "    <tr>\n",
       "      <th>249</th>\n",
       "      <td>250</td>\n",
       "      <td>Laki-laki</td>\n",
       "      <td>120.0</td>\n",
       "      <td>98</td>\n",
       "      <td>15.0</td>\n",
       "    </tr>\n",
       "  </tbody>\n",
       "</table>\n",
       "<p>250 rows × 5 columns</p>\n",
       "</div>"
      ],
      "text/plain": [
       "     ID_pelanggan Jenis Kelamin   Umur  Pendapatan pertahun (juta)  \\\n",
       "0               1     Laki-laki   19.0                          15   \n",
       "1               2     Laki-laki   21.0                          15   \n",
       "2               3     Perempuan   20.0                          16   \n",
       "3               4     Perempuan   23.0                          16   \n",
       "4               5     Perempuan   31.0                          17   \n",
       "..            ...           ...    ...                         ...   \n",
       "245           246     Laki-laki   59.0                          93   \n",
       "246           247     Laki-laki   35.0                          93   \n",
       "247           248     Perempuan   37.0                          97   \n",
       "248           249     Perempuan   32.0                          97   \n",
       "249           250     Laki-laki  120.0                          98   \n",
       "\n",
       "     Skor Belanja (1-100)  \n",
       "0                    39.0  \n",
       "1                    81.0  \n",
       "2                     6.0  \n",
       "3                    77.0  \n",
       "4                    40.0  \n",
       "..                    ...  \n",
       "245                  14.0  \n",
       "246                  90.0  \n",
       "247                  32.0  \n",
       "248                  86.0  \n",
       "249                  15.0  \n",
       "\n",
       "[250 rows x 5 columns]"
      ]
     },
     "execution_count": 2,
     "metadata": {},
     "output_type": "execute_result"
    }
   ],
   "source": [
    "df.info()\n",
    "df"
   ]
  },
  {
   "cell_type": "markdown",
   "metadata": {
    "id": "AByM6XoYMkTy"
   },
   "source": [
    "# Soal 2. Clustering data menggunakan k-means clustering\n",
    "\n",
    "Dalam soal ini, kalian diminta untuk melakukan clustering antara data Umur dan Skor Belanja(1-100). Namun, clustering tidak bisa dilakukan karena data memiliki outlier dan missing value. Maka, lakukanlah tahapan-tahapan berikut:\n",
    "\n",
    "*   Handling missing value dengan menggunakan method ='ffill'\n",
    "*   Handling outlier menggunakan metode Interquartile range\n",
    "*   Lakukan rescaling data menggunakan StandardScaler\n",
    "*   Lakukan clustering menggunakan kmeans clustering dengan k =2, dan visualisasikan.. \n",
    "*   Gunakan Elbow method untuk menemukan jumlah k kluster yang tepat\n",
    "*   Gunakan k=3 (rekomendasi methode Elbow) lalu visualisasikan\n",
    "*   Hitung silhoutte Coefficient dari ke dua hasil prediksi klustering tersebut\n",
    "\n",
    "\n",
    "\n",
    "\n",
    "\n",
    "\n",
    "\n",
    "\n"
   ]
  },
  {
   "cell_type": "code",
   "execution_count": 3,
   "metadata": {
    "id": "l2u2IRm4Ou_9"
   },
   "outputs": [
    {
     "data": {
      "text/html": [
       "<div>\n",
       "<style scoped>\n",
       "    .dataframe tbody tr th:only-of-type {\n",
       "        vertical-align: middle;\n",
       "    }\n",
       "\n",
       "    .dataframe tbody tr th {\n",
       "        vertical-align: top;\n",
       "    }\n",
       "\n",
       "    .dataframe thead th {\n",
       "        text-align: right;\n",
       "    }\n",
       "</style>\n",
       "<table border=\"1\" class=\"dataframe\">\n",
       "  <thead>\n",
       "    <tr style=\"text-align: right;\">\n",
       "      <th></th>\n",
       "      <th>ID_pelanggan</th>\n",
       "      <th>Jenis Kelamin</th>\n",
       "      <th>Umur</th>\n",
       "      <th>Pendapatan pertahun (juta)</th>\n",
       "      <th>Skor Belanja (1-100)</th>\n",
       "    </tr>\n",
       "  </thead>\n",
       "  <tbody>\n",
       "    <tr>\n",
       "      <th>0</th>\n",
       "      <td>1</td>\n",
       "      <td>Laki-laki</td>\n",
       "      <td>19.0</td>\n",
       "      <td>15</td>\n",
       "      <td>39.0</td>\n",
       "    </tr>\n",
       "    <tr>\n",
       "      <th>1</th>\n",
       "      <td>2</td>\n",
       "      <td>Laki-laki</td>\n",
       "      <td>21.0</td>\n",
       "      <td>15</td>\n",
       "      <td>81.0</td>\n",
       "    </tr>\n",
       "    <tr>\n",
       "      <th>2</th>\n",
       "      <td>3</td>\n",
       "      <td>Perempuan</td>\n",
       "      <td>20.0</td>\n",
       "      <td>16</td>\n",
       "      <td>6.0</td>\n",
       "    </tr>\n",
       "    <tr>\n",
       "      <th>3</th>\n",
       "      <td>4</td>\n",
       "      <td>Perempuan</td>\n",
       "      <td>23.0</td>\n",
       "      <td>16</td>\n",
       "      <td>77.0</td>\n",
       "    </tr>\n",
       "    <tr>\n",
       "      <th>4</th>\n",
       "      <td>5</td>\n",
       "      <td>Perempuan</td>\n",
       "      <td>31.0</td>\n",
       "      <td>17</td>\n",
       "      <td>40.0</td>\n",
       "    </tr>\n",
       "    <tr>\n",
       "      <th>...</th>\n",
       "      <td>...</td>\n",
       "      <td>...</td>\n",
       "      <td>...</td>\n",
       "      <td>...</td>\n",
       "      <td>...</td>\n",
       "    </tr>\n",
       "    <tr>\n",
       "      <th>245</th>\n",
       "      <td>246</td>\n",
       "      <td>Laki-laki</td>\n",
       "      <td>59.0</td>\n",
       "      <td>93</td>\n",
       "      <td>14.0</td>\n",
       "    </tr>\n",
       "    <tr>\n",
       "      <th>246</th>\n",
       "      <td>247</td>\n",
       "      <td>Laki-laki</td>\n",
       "      <td>35.0</td>\n",
       "      <td>93</td>\n",
       "      <td>90.0</td>\n",
       "    </tr>\n",
       "    <tr>\n",
       "      <th>247</th>\n",
       "      <td>248</td>\n",
       "      <td>Perempuan</td>\n",
       "      <td>37.0</td>\n",
       "      <td>97</td>\n",
       "      <td>32.0</td>\n",
       "    </tr>\n",
       "    <tr>\n",
       "      <th>248</th>\n",
       "      <td>249</td>\n",
       "      <td>Perempuan</td>\n",
       "      <td>32.0</td>\n",
       "      <td>97</td>\n",
       "      <td>86.0</td>\n",
       "    </tr>\n",
       "    <tr>\n",
       "      <th>249</th>\n",
       "      <td>250</td>\n",
       "      <td>Laki-laki</td>\n",
       "      <td>120.0</td>\n",
       "      <td>98</td>\n",
       "      <td>15.0</td>\n",
       "    </tr>\n",
       "  </tbody>\n",
       "</table>\n",
       "<p>250 rows × 5 columns</p>\n",
       "</div>"
      ],
      "text/plain": [
       "     ID_pelanggan Jenis Kelamin   Umur  Pendapatan pertahun (juta)  \\\n",
       "0               1     Laki-laki   19.0                          15   \n",
       "1               2     Laki-laki   21.0                          15   \n",
       "2               3     Perempuan   20.0                          16   \n",
       "3               4     Perempuan   23.0                          16   \n",
       "4               5     Perempuan   31.0                          17   \n",
       "..            ...           ...    ...                         ...   \n",
       "245           246     Laki-laki   59.0                          93   \n",
       "246           247     Laki-laki   35.0                          93   \n",
       "247           248     Perempuan   37.0                          97   \n",
       "248           249     Perempuan   32.0                          97   \n",
       "249           250     Laki-laki  120.0                          98   \n",
       "\n",
       "     Skor Belanja (1-100)  \n",
       "0                    39.0  \n",
       "1                    81.0  \n",
       "2                     6.0  \n",
       "3                    77.0  \n",
       "4                    40.0  \n",
       "..                    ...  \n",
       "245                  14.0  \n",
       "246                  90.0  \n",
       "247                  32.0  \n",
       "248                  86.0  \n",
       "249                  15.0  \n",
       "\n",
       "[250 rows x 5 columns]"
      ]
     },
     "execution_count": 3,
     "metadata": {},
     "output_type": "execute_result"
    }
   ],
   "source": [
    "#handling missing value\n",
    "df.fillna(method = 'ffill', inplace = True)\n",
    "df"
   ]
  },
  {
   "cell_type": "code",
   "execution_count": 4,
   "metadata": {},
   "outputs": [
    {
     "data": {
      "text/html": [
       "<div>\n",
       "<style scoped>\n",
       "    .dataframe tbody tr th:only-of-type {\n",
       "        vertical-align: middle;\n",
       "    }\n",
       "\n",
       "    .dataframe tbody tr th {\n",
       "        vertical-align: top;\n",
       "    }\n",
       "\n",
       "    .dataframe thead th {\n",
       "        text-align: right;\n",
       "    }\n",
       "</style>\n",
       "<table border=\"1\" class=\"dataframe\">\n",
       "  <thead>\n",
       "    <tr style=\"text-align: right;\">\n",
       "      <th></th>\n",
       "      <th>Umur</th>\n",
       "      <th>Skor Belanja (1-100)</th>\n",
       "    </tr>\n",
       "  </thead>\n",
       "  <tbody>\n",
       "    <tr>\n",
       "      <th>0</th>\n",
       "      <td>19.0</td>\n",
       "      <td>39.0</td>\n",
       "    </tr>\n",
       "    <tr>\n",
       "      <th>1</th>\n",
       "      <td>21.0</td>\n",
       "      <td>81.0</td>\n",
       "    </tr>\n",
       "    <tr>\n",
       "      <th>2</th>\n",
       "      <td>20.0</td>\n",
       "      <td>6.0</td>\n",
       "    </tr>\n",
       "    <tr>\n",
       "      <th>3</th>\n",
       "      <td>23.0</td>\n",
       "      <td>77.0</td>\n",
       "    </tr>\n",
       "    <tr>\n",
       "      <th>4</th>\n",
       "      <td>31.0</td>\n",
       "      <td>40.0</td>\n",
       "    </tr>\n",
       "    <tr>\n",
       "      <th>...</th>\n",
       "      <td>...</td>\n",
       "      <td>...</td>\n",
       "    </tr>\n",
       "    <tr>\n",
       "      <th>244</th>\n",
       "      <td>27.0</td>\n",
       "      <td>69.0</td>\n",
       "    </tr>\n",
       "    <tr>\n",
       "      <th>245</th>\n",
       "      <td>59.0</td>\n",
       "      <td>14.0</td>\n",
       "    </tr>\n",
       "    <tr>\n",
       "      <th>246</th>\n",
       "      <td>35.0</td>\n",
       "      <td>90.0</td>\n",
       "    </tr>\n",
       "    <tr>\n",
       "      <th>247</th>\n",
       "      <td>37.0</td>\n",
       "      <td>32.0</td>\n",
       "    </tr>\n",
       "    <tr>\n",
       "      <th>248</th>\n",
       "      <td>32.0</td>\n",
       "      <td>86.0</td>\n",
       "    </tr>\n",
       "  </tbody>\n",
       "</table>\n",
       "<p>248 rows × 2 columns</p>\n",
       "</div>"
      ],
      "text/plain": [
       "     Umur  Skor Belanja (1-100)\n",
       "0    19.0                  39.0\n",
       "1    21.0                  81.0\n",
       "2    20.0                   6.0\n",
       "3    23.0                  77.0\n",
       "4    31.0                  40.0\n",
       "..    ...                   ...\n",
       "244  27.0                  69.0\n",
       "245  59.0                  14.0\n",
       "246  35.0                  90.0\n",
       "247  37.0                  32.0\n",
       "248  32.0                  86.0\n",
       "\n",
       "[248 rows x 2 columns]"
      ]
     },
     "execution_count": 4,
     "metadata": {},
     "output_type": "execute_result"
    }
   ],
   "source": [
    "#handling outlier\n",
    "def get_bound(data):\n",
    "    iqr = data.quantile(0.75) - data.quantile(0.25)\n",
    "    lower_bound = data.quantile(0.25) - (iqr*1.5)\n",
    "    upper_bound = data.quantile(0.75) + (iqr*1.5)\n",
    "    return lower_bound, upper_bound\n",
    "\n",
    "def get_outliers(data):\n",
    "    lower_bound, upper_bound = get_bound(data)\n",
    "    return data[((data > upper_bound) | (data < lower_bound))].sum()\n",
    "\n",
    "def remove_outliers(data):\n",
    "    lower_bound, upper_bound = get_bound(data)\n",
    "    df_new = data[((data < upper_bound) & (data > lower_bound))].copy()\n",
    "    return df_new\n",
    "df_clean = remove_outliers(df[['Umur','Skor Belanja (1-100)']])\n",
    "df_clean.dropna(axis = 0, inplace = True)\n",
    "df_clean"
   ]
  },
  {
   "cell_type": "code",
   "execution_count": 5,
   "metadata": {},
   "outputs": [],
   "source": [
    "#rescaling data \n",
    "sc = StandardScaler()\n",
    "df_scale = sc.fit_transform(df_clean)"
   ]
  },
  {
   "cell_type": "code",
   "execution_count": 6,
   "metadata": {},
   "outputs": [],
   "source": [
    "#clustering\n",
    "kmeans1 = KMeans(n_clusters = 2, random_state=42).fit(df_scale)\n",
    "labels1 = kmeans1.labels_\n",
    "new_df2 = pd.DataFrame(data=df_scale, columns=['Umur','Skor Belanja (1-100)'])\n",
    "new_df2['label1_2cent'] = labels1"
   ]
  },
  {
   "cell_type": "code",
   "execution_count": 7,
   "metadata": {},
   "outputs": [
    {
     "name": "stdout",
     "output_type": "stream",
     "text": [
      "n_cluster  = 2\n"
     ]
    },
    {
     "data": {
      "image/png": "[encoded data removed]",
      "text/plain": [
       "<Figure size 864x576 with 1 Axes>"
      ]
     },
     "metadata": {
      "needs_background": "light"
     },
     "output_type": "display_data"
    }
   ],
   "source": [
    "print(\"n_cluster  = 2\")\n",
    "fig, ax = plt.subplots(figsize=(12,8))\n",
    "plt.scatter(new_df2['Umur'][new_df2.label1_2cent == 0], new_df2['Skor Belanja (1-100)'][new_df2.label1_2cent == 0], c='blue', s=100, edgecolor='green')\n",
    "plt.scatter(new_df2['Umur'][new_df2.label1_2cent == 1], new_df2['Skor Belanja (1-100)'][new_df2.label1_2cent == 1], c='red', s=100, edgecolor='green')\n",
    "plt.scatter(kmeans1.cluster_centers_[:, 0],kmeans1.cluster_centers_[:, 1], c='k', s=500 ) #plotting posisi centeroid\n",
    "ax.set(xlabel = 'Umur', ylabel = 'Skor Belanja (1-100)')\n",
    "plt.show()"
   ]
  },
  {
   "cell_type": "code",
   "execution_count": 8,
   "metadata": {},
   "outputs": [
    {
     "data": {
      "image/png": "[encoded data removed]",
      "text/plain": [
       "<Figure size 720x504 with 1 Axes>"
      ]
     },
     "metadata": {
      "needs_background": "light"
     },
     "output_type": "display_data"
    }
   ],
   "source": [
    "#elbow method\n",
    "wcss = []\n",
    "for i in range(1,11):\n",
    "  kmeans = KMeans(n_clusters=i, init='k-means++', random_state= 42)\n",
    "  kmeans.fit(new_df2)\n",
    "  wcss.append(kmeans.inertia_)\n",
    "\n",
    "fig2, ax2 = plt.subplots(figsize=(10,7))\n",
    "plt.plot(range(1,11), wcss)\n",
    "ax2.set(xlabel ='Number of cluster' , ylabel = 'WCSS' , title = 'The Elbow Method')\n",
    "plt.show()"
   ]
  },
  {
   "cell_type": "code",
   "execution_count": 9,
   "metadata": {},
   "outputs": [
    {
     "name": "stdout",
     "output_type": "stream",
     "text": [
      "n_cluster  =3\n"
     ]
    },
    {
     "data": {
      "image/png": "[encoded data removed]",
      "text/plain": [
       "<Figure size 864x576 with 1 Axes>"
      ]
     },
     "metadata": {
      "needs_background": "light"
     },
     "output_type": "display_data"
    }
   ],
   "source": [
    "print(\"n_cluster  =3\")\n",
    "kmeans2 = KMeans(n_clusters = 3, init='k-means++', random_state=42).fit(df_scale)\n",
    "labels2 = kmeans2.labels_\n",
    "new_df2['label2_3cent'] = labels2\n",
    "fig3, ax3 = plt.subplots(figsize=(12,8))\n",
    "plt.scatter(new_df2['Umur'][new_df2.label2_3cent == 0], new_df2['Skor Belanja (1-100)'][new_df2.label2_3cent == 0], c='blue', s=100, edgecolor='green')\n",
    "plt.scatter(new_df2['Umur'][new_df2.label2_3cent == 1], new_df2['Skor Belanja (1-100)'][new_df2.label2_3cent == 1], c='red', s=100, edgecolor='green')\n",
    "plt.scatter(new_df2['Umur'][new_df2.label2_3cent == 2], new_df2['Skor Belanja (1-100)'][new_df2.label2_3cent == 2], c='green', s=100, edgecolor='green')\n",
    "plt.scatter(kmeans1.cluster_centers_[:, 0],kmeans1.cluster_centers_[:, 1], c='k', s=500 ) #plotting posisi centeroid\n",
    "ax3.set(xlabel = 'Umur', ylabel = 'Skor Belanja (1-100)')\n",
    "plt.show()"
   ]
  },
  {
   "cell_type": "code",
   "execution_count": 10,
   "metadata": {},
   "outputs": [
    {
     "name": "stdout",
     "output_type": "stream",
     "text": [
      "Koefisien silhoutte saat cluster = 2 adalah 0.5245622611809337\n",
      "Koefisien silhoutte saat cluster = 3 adalah 0.5816811722585028\n"
     ]
    }
   ],
   "source": [
    "print(\"Koefisien silhoutte saat cluster = 2 adalah {}\".format(silhouette_score(new_df2, labels = labels1)))\n",
    "print(\"Koefisien silhoutte saat cluster = 3 adalah {}\".format(silhouette_score(new_df2, labels = labels2)))"
   ]
  },
  {
   "cell_type": "markdown",
   "metadata": {
    "id": "Fo1GIiVdFP4j"
   },
   "source": [
    "Expected output:\n",
    "\n",
    "n_cluster =2\n",
    "\n",
    "![](https://drive.google.com/uc?id=1RHedPeGR48w-cWl7WWkIsHTSB2DRgynO)\n",
    "\n",
    "\n",
    "Elbow graph\n",
    "\n",
    "![](https://drive.google.com/uc?id=1S3_uvQWzJCi8YwSBbpu2imKbUBZ3JdmV)\n",
    "\n",
    "n_cluster =3\n",
    "\n",
    "![](https://drive.google.com/uc?id=1EVMDQgPpC8vYpfxilyiJMRDNIr-JXULd)"
   ]
  },
  {
   "cell_type": "code",
   "execution_count": 11,
   "metadata": {},
   "outputs": [
    {
     "data": {
      "text/html": [
       "<div>\n",
       "<style scoped>\n",
       "    .dataframe tbody tr th:only-of-type {\n",
       "        vertical-align: middle;\n",
       "    }\n",
       "\n",
       "    .dataframe tbody tr th {\n",
       "        vertical-align: top;\n",
       "    }\n",
       "\n",
       "    .dataframe thead th {\n",
       "        text-align: right;\n",
       "    }\n",
       "</style>\n",
       "<table border=\"1\" class=\"dataframe\">\n",
       "  <thead>\n",
       "    <tr style=\"text-align: right;\">\n",
       "      <th></th>\n",
       "      <th>Umur</th>\n",
       "      <th>Skor Belanja (1-100)</th>\n",
       "      <th>labels1</th>\n",
       "      <th>labels2</th>\n",
       "    </tr>\n",
       "  </thead>\n",
       "  <tbody>\n",
       "    <tr>\n",
       "      <th>0</th>\n",
       "      <td>19.0</td>\n",
       "      <td>39.0</td>\n",
       "      <td>0</td>\n",
       "      <td>2</td>\n",
       "    </tr>\n",
       "    <tr>\n",
       "      <th>1</th>\n",
       "      <td>21.0</td>\n",
       "      <td>81.0</td>\n",
       "      <td>0</td>\n",
       "      <td>0</td>\n",
       "    </tr>\n",
       "    <tr>\n",
       "      <th>2</th>\n",
       "      <td>20.0</td>\n",
       "      <td>6.0</td>\n",
       "      <td>1</td>\n",
       "      <td>2</td>\n",
       "    </tr>\n",
       "    <tr>\n",
       "      <th>3</th>\n",
       "      <td>23.0</td>\n",
       "      <td>77.0</td>\n",
       "      <td>0</td>\n",
       "      <td>0</td>\n",
       "    </tr>\n",
       "    <tr>\n",
       "      <th>4</th>\n",
       "      <td>31.0</td>\n",
       "      <td>40.0</td>\n",
       "      <td>0</td>\n",
       "      <td>2</td>\n",
       "    </tr>\n",
       "    <tr>\n",
       "      <th>...</th>\n",
       "      <td>...</td>\n",
       "      <td>...</td>\n",
       "      <td>...</td>\n",
       "      <td>...</td>\n",
       "    </tr>\n",
       "    <tr>\n",
       "      <th>243</th>\n",
       "      <td>27.0</td>\n",
       "      <td>69.0</td>\n",
       "      <td>0</td>\n",
       "      <td>0</td>\n",
       "    </tr>\n",
       "    <tr>\n",
       "      <th>244</th>\n",
       "      <td>59.0</td>\n",
       "      <td>14.0</td>\n",
       "      <td>1</td>\n",
       "      <td>1</td>\n",
       "    </tr>\n",
       "    <tr>\n",
       "      <th>245</th>\n",
       "      <td>35.0</td>\n",
       "      <td>90.0</td>\n",
       "      <td>0</td>\n",
       "      <td>0</td>\n",
       "    </tr>\n",
       "    <tr>\n",
       "      <th>246</th>\n",
       "      <td>37.0</td>\n",
       "      <td>32.0</td>\n",
       "      <td>1</td>\n",
       "      <td>2</td>\n",
       "    </tr>\n",
       "    <tr>\n",
       "      <th>247</th>\n",
       "      <td>32.0</td>\n",
       "      <td>86.0</td>\n",
       "      <td>0</td>\n",
       "      <td>0</td>\n",
       "    </tr>\n",
       "  </tbody>\n",
       "</table>\n",
       "<p>248 rows × 4 columns</p>\n",
       "</div>"
      ],
      "text/plain": [
       "     Umur  Skor Belanja (1-100)  labels1  labels2\n",
       "0    19.0                  39.0        0        2\n",
       "1    21.0                  81.0        0        0\n",
       "2    20.0                   6.0        1        2\n",
       "3    23.0                  77.0        0        0\n",
       "4    31.0                  40.0        0        2\n",
       "..    ...                   ...      ...      ...\n",
       "243  27.0                  69.0        0        0\n",
       "244  59.0                  14.0        1        1\n",
       "245  35.0                  90.0        0        0\n",
       "246  37.0                  32.0        1        2\n",
       "247  32.0                  86.0        0        0\n",
       "\n",
       "[248 rows x 4 columns]"
      ]
     },
     "execution_count": 11,
     "metadata": {},
     "output_type": "execute_result"
    }
   ],
   "source": [
    "new_df2_invert = pd.DataFrame(data=sc.inverse_transform(df_scale), columns=['Umur', 'Skor Belanja (1-100)'])\n",
    "new_df2_invert['labels1'] = labels1\n",
    "new_df2_invert['labels2'] = labels2\n",
    "new_df2_invert"
   ]
  },
  {
   "cell_type": "code",
   "execution_count": 12,
   "metadata": {},
   "outputs": [
    {
     "name": "stdout",
     "output_type": "stream",
     "text": [
      "n_cluster  = 2\n"
     ]
    },
    {
     "data": {
      "image/png": "[encoded data removed]",
      "text/plain": [
       "<Figure size 864x576 with 1 Axes>"
      ]
     },
     "metadata": {
      "needs_background": "light"
     },
     "output_type": "display_data"
    },
    {
     "name": "stdout",
     "output_type": "stream",
     "text": [
      "n_cluster  = 3\n"
     ]
    },
    {
     "data": {
      "image/png": "[encoded data removed]",
      "text/plain": [
       "<Figure size 864x576 with 1 Axes>"
      ]
     },
     "metadata": {
      "needs_background": "light"
     },
     "output_type": "display_data"
    }
   ],
   "source": [
    "#plot 2 kluster setelah diinverse\n",
    "print(\"n_cluster  = 2\")\n",
    "fig4, ax4 = plt.subplots(figsize=(12,8))\n",
    "plt.scatter(new_df2_invert['Umur'][new_df2_invert.labels1 == 0], new_df2_invert['Skor Belanja (1-100)'][new_df2_invert.labels1 == 0], c='blue', s=100, edgecolor='green')\n",
    "plt.scatter(new_df2_invert['Umur'][new_df2_invert.labels1 == 1], new_df2_invert['Skor Belanja (1-100)'][new_df2_invert.labels1 == 1], c='red', s=100, edgecolor='green')\n",
    "# plt.scatter(kmeans1.cluster_centers_[:, 0],kmeans1.cluster_centers_[:, 1], c='k', s=500 ) #plotting posisi centeroid\n",
    "ax4.set(xlabel = 'Umur', ylabel = 'Skor Belanja (1-100)')\n",
    "plt.show()\n",
    "\n",
    "#plot 3 kluster setelah diinverse\n",
    "print(\"n_cluster  = 3\")\n",
    "fig5, ax5 = plt.subplots(figsize=(12,8))\n",
    "plt.scatter(new_df2_invert['Umur'][new_df2_invert.labels2 == 0], new_df2_invert['Skor Belanja (1-100)'][new_df2_invert.labels2 == 0], c='blue', s=100, edgecolor='green')\n",
    "plt.scatter(new_df2_invert['Umur'][new_df2_invert.labels2 == 1], new_df2_invert['Skor Belanja (1-100)'][new_df2_invert.labels2 == 1], c='red', s=100, edgecolor='green')\n",
    "plt.scatter(new_df2_invert['Umur'][new_df2_invert.labels2 == 2], new_df2_invert['Skor Belanja (1-100)'][new_df2_invert.labels2 == 2], c='green', s=100, edgecolor='green')\n",
    "# plt.scatter(kmeans1.cluster_centers_[:, 0],kmeans1.cluster_centers_[:, 1], c='k', s=500 ) #plotting posisi centeroid\n",
    "ax5.set(xlabel = 'Umur', ylabel = 'Skor Belanja (1-100)')\n",
    "plt.show()"
   ]
  },
  {
   "cell_type": "markdown",
   "metadata": {
    "id": "5xpMIoEcm8MM"
   },
   "source": [
    "\n",
    "\n",
    "---\n",
    "\n",
    "\n",
    "\n",
    "---\n",
    "\n",
    "\n",
    "\n",
    "---\n",
    "\n"
   ]
  },
  {
   "cell_type": "markdown",
   "metadata": {
    "id": "pt-NFlqTm-Og"
   },
   "source": [
    "# Soal 3. Analisa Data Hasil Clustering\n",
    "\n",
    "Dari hasil klustering diatas, buatlah sebuah analisa segmentasi pelanggan untuk kemajuan supermarket. "
   ]
  },
  {
   "cell_type": "markdown",
   "metadata": {
    "id": "zNPDstJynpva"
   },
   "source": [
    "Jawab disini:\n",
    "\n",
    "---\n",
    "Untuk nilai koefisien silhoutte, perbedaan nilai saat jumlah kluster 2 dan 3 tidak berbeda jauh, yakni disekitar nilai 0.5. Jika dilihat berdasarkan grafik, jarak titik - titik data dari tiap kluster dengan yang lainnya tidak terlalu jauh.\n",
    "\n",
    "---\n",
    "Untuk nilai n_cluster = 2, terlihat bahwa terdapat 2 segementasi. Segmen 1 yang berwarna merah berada pada semua rentang umur, namun nilai skor belanja masih dibawah 60. Segmen 2 yang berwarna biru berada pada nilai umur dibawah 40 tahun, namun nilai skor belanja sekitar 50 - 100.\n",
    "\n",
    "---\n",
    "Untuk nilai n_cluster = 3, terlihat bahwa terdapat 3 segmentasi. Segmen 1 yang berwarna hijau berada pada rentang umur 0 - 45 tahun dengan nilai skor belanja berkisar antara 0 - 40. Segmen 2 yang berwarna merah berada pada rentang umur 45 - 70 tahun dengan nilai skor belanja berkisar antara 0 - 60. Segmen 3 yang berwarna biru berada pada rentang umur 0 - 40 tahun dengan nilai skor belanja berkisar 50 - 100.\n",
    "\n",
    "---\n",
    "Analisis pelanggan untuk kemajuan supermarket akan saya tinjau pada nilai cluster = 3 karena nilai koefisien silhouette lebih besar dibanding pada nilai cluster = 2. Terlihat bahwa pada segmen 1 dan segmen 3 umur pelanggan lebih muda dibandingkan pada segmen 2. Peningkatan pada penjualan di segmen 3 dapat ditingkatkan dengan menyediakan fasilitas seperti counter khusus orang yang berumur agar tidak terlalu lama mengantri karena tubuh yang tentunya tidak sekuat anak muda. Serta dapat juga memperbanyak kebutuhan sehari untuk khusus untuk orang berumur dan meletakkan barang pada lokasi yang mudah dijangkau. Sedangkan untuk meningkatkan skor belanja pada segmen 1 dapat dilakukan dengan memberikan banyak promo serta barang yang sedang hype."
   ]
  }
 ],
 "metadata": {
  "colab": {
   "collapsed_sections": [],
   "name": "Tugas_Day_3(EDA).ipynb",
   "provenance": [],
   "toc_visible": true
  },
  "kernelspec": {
   "display_name": "Python 3",
   "language": "python",
   "name": "python3"
  },
  "language_info": {
   "codemirror_mode": {
    "name": "ipython",
    "version": 3
   },
   "file_extension": ".py",
   "mimetype": "text/x-python",
   "name": "python",
   "nbconvert_exporter": "python",
   "pygments_lexer": "ipython3",
   "version": "3.8.5"
  }
 },
 "nbformat": 4,
 "nbformat_minor": 1
}
