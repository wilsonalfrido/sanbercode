{
 "cells": [
  {
   "cell_type": "code",
   "execution_count": 1,
   "metadata": {
    "colab": {},
    "colab_type": "code",
    "id": "GyakVoXhBGrv",
    "outputId": "39b8ca38-73c2-4f96-a16b-9898575919b9"
   },
   "outputs": [
    {
     "data": {
      "text/html": [
       "<div>\n",
       "<style scoped>\n",
       "    .dataframe tbody tr th:only-of-type {\n",
       "        vertical-align: middle;\n",
       "    }\n",
       "\n",
       "    .dataframe tbody tr th {\n",
       "        vertical-align: top;\n",
       "    }\n",
       "\n",
       "    .dataframe thead th {\n",
       "        text-align: right;\n",
       "    }\n",
       "</style>\n",
       "<table border=\"1\" class=\"dataframe\">\n",
       "  <thead>\n",
       "    <tr style=\"text-align: right;\">\n",
       "      <th></th>\n",
       "      <th>siswa_id</th>\n",
       "      <th>pelajaran</th>\n",
       "      <th>nilai</th>\n",
       "      <th>jenis-kelamin</th>\n",
       "      <th>kelas</th>\n",
       "    </tr>\n",
       "  </thead>\n",
       "  <tbody>\n",
       "    <tr>\n",
       "      <th>0</th>\n",
       "      <td>1</td>\n",
       "      <td>Kimia</td>\n",
       "      <td>81</td>\n",
       "      <td>laki-laki</td>\n",
       "      <td>12C</td>\n",
       "    </tr>\n",
       "    <tr>\n",
       "      <th>1</th>\n",
       "      <td>2</td>\n",
       "      <td>Fisika</td>\n",
       "      <td>57</td>\n",
       "      <td>perempuan</td>\n",
       "      <td>12C</td>\n",
       "    </tr>\n",
       "    <tr>\n",
       "      <th>2</th>\n",
       "      <td>3</td>\n",
       "      <td>Ekonomi</td>\n",
       "      <td>9</td>\n",
       "      <td>laki-laki</td>\n",
       "      <td>12D</td>\n",
       "    </tr>\n",
       "    <tr>\n",
       "      <th>3</th>\n",
       "      <td>4</td>\n",
       "      <td>Matematika</td>\n",
       "      <td>23</td>\n",
       "      <td>laki-laki</td>\n",
       "      <td>12D</td>\n",
       "    </tr>\n",
       "    <tr>\n",
       "      <th>4</th>\n",
       "      <td>5</td>\n",
       "      <td>Biologi</td>\n",
       "      <td>4</td>\n",
       "      <td>laki-laki</td>\n",
       "      <td>12C</td>\n",
       "    </tr>\n",
       "  </tbody>\n",
       "</table>\n",
       "</div>"
      ],
      "text/plain": [
       "   siswa_id   pelajaran  nilai jenis-kelamin kelas\n",
       "0         1       Kimia     81     laki-laki   12C\n",
       "1         2      Fisika     57     perempuan   12C\n",
       "2         3     Ekonomi      9     laki-laki   12D\n",
       "3         4  Matematika     23     laki-laki   12D\n",
       "4         5     Biologi      4     laki-laki   12C"
      ]
     },
     "metadata": {},
     "output_type": "display_data"
    }
   ],
   "source": [
    "# Persiapan membuat data\n",
    "import pandas as pd\n",
    "import random\n",
    "\n",
    "pelajaran = ['Matematika', 'Fisika', 'Biologi', 'Kimia', 'Geologi', 'Ekonomi']\n",
    "kelas = ['12A', '12B', '12C', '12D']\n",
    "\n",
    "hasil_nilai = {\n",
    "    'siswa_id' : range(1, 21),\n",
    "    'pelajaran' : [random.choice(pelajaran) for i in range(20)],\n",
    "    'nilai' : [random.choice(range(0, 100)) for i in range(20)],\n",
    "    'jenis-kelamin' : [random.choice(['laki-laki', 'perempuan']) for i in range(20)],\n",
    "    'kelas' : [random.choice(kelas) for i in range(20)]\n",
    "}\n",
    "\n",
    "df = pd.DataFrame(hasil_nilai)\n",
    "display(df.head())"
   ]
  },
  {
   "cell_type": "markdown",
   "metadata": {
    "colab_type": "text",
    "id": "aNoScqypBGr5"
   },
   "source": [
    "# Soal 1: Indexing\n",
    "\n",
    "1. Lakukan indexing terhadap dataframe untuk mengakses column nilai dan kelas saja\n",
    "2. Lakukan indexing terhadap dataframe untuk mengakses row 5 sampai 10 beserta column pelajaran dan nilai"
   ]
  },
  {
   "cell_type": "code",
   "execution_count": null,
   "metadata": {
    "colab": {},
    "colab_type": "code",
    "id": "rKmgvnS2BGr6"
   },
   "outputs": [],
   "source": [
    "# code here\n",
    "#kolom nilai dan kelas\n",
    "df[['nilai','kelas']]"
   ]
  },
  {
   "cell_type": "code",
   "execution_count": null,
   "metadata": {},
   "outputs": [],
   "source": [
    "#akses row 5 sampai 10 beserta column pelajaran dan nilai\n",
    "df.iloc[4:10,1:3]"
   ]
  },
  {
   "cell_type": "markdown",
   "metadata": {
    "colab_type": "text",
    "id": "F55zUl5GBGr_"
   },
   "source": [
    "<h2>Soal 2: Filter DataFrame Dengan Boolean</h2>\n",
    "\n",
    "1. Tampilkan semua data siswa pada mata pelajaran Ekonomi dan Fisika\n",
    "2. Tampilkan semua data siswa yang mempunyai nilai lebih dari 50 di mata pelajaran Kimia \n",
    "3. Tampilkan semua data yang mempunyai nilai lebih dari 70, berjnis kelamin perempuan dan di kelas 12C"
   ]
  },
  {
   "cell_type": "code",
   "execution_count": null,
   "metadata": {
    "colab": {},
    "colab_type": "code",
    "id": "eB5oSf_KBGsA"
   },
   "outputs": [],
   "source": [
    "# code here\n",
    "# data siswa pada mata pelajaran Ekonomi dan Fisika\n",
    "df[(df['pelajaran'] == 'Ekonomi') | (df['pelajaran'] == 'Fisika')]"
   ]
  },
  {
   "cell_type": "code",
   "execution_count": null,
   "metadata": {},
   "outputs": [],
   "source": [
    "#data siswa yang mempunyai nilai lebih dari 50 di mata pelajaran Kimia\n",
    "df[(df['pelajaran'] == 'Kimia') & (df['nilai'] > 50)]"
   ]
  },
  {
   "cell_type": "code",
   "execution_count": null,
   "metadata": {},
   "outputs": [],
   "source": [
    "#data yang mempunyai nilai lebih dari 70, berjnis kelamin perempuan dan di kelas 12C\n",
    "df[(df['kelas'] == '12C') & (df['nilai'] > 70) & (df['jenis-kelamin'] == 'perempuan')]"
   ]
  },
  {
   "cell_type": "markdown",
   "metadata": {
    "colab_type": "text",
    "id": "6Od6R3H1BGsE"
   },
   "source": [
    "<h2>Soal 3: Data Transformation</h2>\n",
    "\n",
    "lakukan data transformasi terhadap column 'nilai' dengan fungsi transformasi, berikut rumus dari normalisasi\n",
    "\n",
    "![alt text](https://drive.google.com/uc?id=1wed-EbRSTA0JP1ceDp6lcKBqH2yJ4aa3)"
   ]
  },
  {
   "cell_type": "code",
   "execution_count": null,
   "metadata": {
    "colab": {},
    "colab_type": "code",
    "id": "qeV_iH8nBGsF"
   },
   "outputs": [],
   "source": [
    "# code here\n",
    "df['nilai'] = (df['nilai'] - df.nilai.min())/(df.nilai.max() - df.nilai.min())\n",
    "display(df)"
   ]
  }
 ],
 "metadata": {
  "colab": {
   "name": "Tugas Hari 2 Pekan 2.ipynb",
   "provenance": []
  },
  "kernelspec": {
   "display_name": "Python 3",
   "language": "python",
   "name": "python3"
  },
  "language_info": {
   "codemirror_mode": {
    "name": "ipython",
    "version": 3
   },
   "file_extension": ".py",
   "mimetype": "text/x-python",
   "name": "python",
   "nbconvert_exporter": "python",
   "pygments_lexer": "ipython3",
   "version": "3.8.5"
  }
 },
 "nbformat": 4,
 "nbformat_minor": 1
}
